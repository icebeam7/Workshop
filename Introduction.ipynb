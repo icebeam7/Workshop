{
 "cells": [
  {
   "cell_type": "markdown",
   "id": "d1139d57",
   "metadata": {},
   "source": [
    "# Explore and Analyze Data with Python\n",
    "\n",
    "Let's start our journey by loading some data:"
   ]
  },
  {
   "cell_type": "code",
   "execution_count": 1,
   "id": "34da209f",
   "metadata": {},
   "outputs": [
    {
     "name": "stdout",
     "output_type": "stream",
     "text": [
      "[50, 50, 47, 97, 49, 3, 53, 42, 26, 74]\n"
     ]
    }
   ],
   "source": [
    "data = [50,50,47,97,49,3,53,42,26,74]\n",
    "print(data)"
   ]
  },
  {
   "cell_type": "markdown",
   "id": "7e73e7d4",
   "metadata": {},
   "source": [
    "The data has been loaded into a Python list, which is a good data type for general data manipulation, but it's not optimized for numeric analysis. We can use the **NumPy** package instead, which includes specific data types and functions for working with Numbers in Python."
   ]
  },
  {
   "cell_type": "code",
   "execution_count": 2,
   "id": "f6b6a59c",
   "metadata": {},
   "outputs": [
    {
     "name": "stdout",
     "output_type": "stream",
     "text": [
      "[50 50 47 97 49  3 53 42 26 74]\n"
     ]
    }
   ],
   "source": [
    "import numpy as np\n",
    "\n",
    "grades = np.array(data)\n",
    "print(grades)"
   ]
  },
  {
   "cell_type": "markdown",
   "id": "7f810c17",
   "metadata": {},
   "source": [
    "Access any element by using an index (the first element has index = 0)"
   ]
  },
  {
   "cell_type": "code",
   "execution_count": 8,
   "id": "9fce4244",
   "metadata": {},
   "outputs": [
    {
     "data": {
      "text/plain": [
       "47"
      ]
     },
     "execution_count": 8,
     "metadata": {},
     "output_type": "execute_result"
    }
   ],
   "source": [
    "grades[2]"
   ]
  },
  {
   "cell_type": "markdown",
   "id": "a198cc46",
   "metadata": {},
   "source": [
    "Let´s calculate the average (mean) of our data:"
   ]
  },
  {
   "cell_type": "code",
   "execution_count": 3,
   "id": "85b75f7d",
   "metadata": {},
   "outputs": [
    {
     "data": {
      "text/plain": [
       "49.1"
      ]
     },
     "execution_count": 3,
     "metadata": {},
     "output_type": "execute_result"
    }
   ],
   "source": [
    "grades.mean()"
   ]
  },
  {
   "cell_type": "markdown",
   "id": "6c29ed04",
   "metadata": {},
   "source": [
    "What is the size and dimensionality of *grades* element?"
   ]
  },
  {
   "cell_type": "code",
   "execution_count": 4,
   "id": "41fe2044",
   "metadata": {},
   "outputs": [
    {
     "data": {
      "text/plain": [
       "(10,)"
      ]
     },
     "execution_count": 4,
     "metadata": {},
     "output_type": "execute_result"
    }
   ],
   "source": [
    "grades.shape"
   ]
  },
  {
   "cell_type": "markdown",
   "id": "6808aaef",
   "metadata": {},
   "source": [
    "Let's create a second array and merge it with *grades* in a new array:"
   ]
  },
  {
   "cell_type": "code",
   "execution_count": 5,
   "id": "0f744804",
   "metadata": {},
   "outputs": [
    {
     "data": {
      "text/plain": [
       "array([[10.  , 11.5 ,  9.  , 16.  ,  9.25,  1.  , 11.5 ,  9.  ,  8.5 ,\n",
       "        14.5 ],\n",
       "       [50.  , 50.  , 47.  , 97.  , 49.  ,  3.  , 53.  , 42.  , 26.  ,\n",
       "        74.  ]])"
      ]
     },
     "execution_count": 5,
     "metadata": {},
     "output_type": "execute_result"
    }
   ],
   "source": [
    "# Define an array of study hours\n",
    "study_hours = [10.0,11.5,9.0,16.0,9.25,1.0,11.5,9.0,8.5,14.5]\n",
    "\n",
    "# Create a 2D array (an array of arrays)\n",
    "student_data = np.array([study_hours, grades])\n",
    "\n",
    "# display the array\n",
    "student_data"
   ]
  },
  {
   "cell_type": "markdown",
   "id": "96c02856",
   "metadata": {},
   "source": [
    "What is the size and dimensionality of *student_data* array?"
   ]
  },
  {
   "cell_type": "code",
   "execution_count": 6,
   "id": "97817f6b",
   "metadata": {},
   "outputs": [
    {
     "data": {
      "text/plain": [
       "(2, 10)"
      ]
     },
     "execution_count": 6,
     "metadata": {},
     "output_type": "execute_result"
    }
   ],
   "source": [
    "# Show shape of 2D array\n",
    "student_data.shape"
   ]
  },
  {
   "cell_type": "markdown",
   "id": "e974cf10",
   "metadata": {},
   "source": [
    "How to calculate the average of each dimension?"
   ]
  },
  {
   "cell_type": "code",
   "execution_count": 7,
   "id": "15bcebaa",
   "metadata": {},
   "outputs": [
    {
     "name": "stdout",
     "output_type": "stream",
     "text": [
      "Average study hours: 10.03\n",
      "Average grade: 49.10\n"
     ]
    }
   ],
   "source": [
    "avg_study = student_data[0].mean()\n",
    "avg_grade = student_data[1].mean()\n",
    "\n",
    "print('Average study hours: {:.2f}\\nAverage grade: {:.2f}'.format(avg_study, avg_grade))"
   ]
  },
  {
   "cell_type": "markdown",
   "id": "fbcdda1c",
   "metadata": {},
   "source": [
    "Access an element from the 2-D array"
   ]
  },
  {
   "cell_type": "code",
   "execution_count": 9,
   "id": "081dd572",
   "metadata": {},
   "outputs": [
    {
     "data": {
      "text/plain": [
       "9.0"
      ]
     },
     "execution_count": 9,
     "metadata": {},
     "output_type": "execute_result"
    }
   ],
   "source": [
    "student_data[0][2]"
   ]
  },
  {
   "cell_type": "code",
   "execution_count": null,
   "id": "1f5d4181",
   "metadata": {},
   "outputs": [],
   "source": []
  }
 ],
 "metadata": {
  "kernelspec": {
   "display_name": "Python 3 (ipykernel)",
   "language": "python",
   "name": "python3"
  },
  "language_info": {
   "codemirror_mode": {
    "name": "ipython",
    "version": 3
   },
   "file_extension": ".py",
   "mimetype": "text/x-python",
   "name": "python",
   "nbconvert_exporter": "python",
   "pygments_lexer": "ipython3",
   "version": "3.9.13"
  }
 },
 "nbformat": 4,
 "nbformat_minor": 5
}
